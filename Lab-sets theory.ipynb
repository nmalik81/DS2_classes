{
 "cells": [
  {
   "cell_type": "code",
   "execution_count": 1,
   "metadata": {},
   "outputs": [
    {
     "name": "stdout",
     "output_type": "stream",
     "text": [
      "Set is: [9, 'g', 'h', 7, 5, 'b', 8, 'd', 0, 'f', 1, 8, 'e', 0, 'a', 9, 2]\n"
     ]
    }
   ],
   "source": [
    "# problem array \n",
    "arr = [9,'g', 'h', 7, 5,'b', 8,'d', 0,'f', 1, 8,'e', 0,'a', 9, 2]\n",
    "arr_set = set(arr)\n",
    "print(\"Set is: {}\".format(arr))"
   ]
  },
  {
   "cell_type": "code",
   "execution_count": 2,
   "metadata": {},
   "outputs": [
    {
     "name": "stdout",
     "output_type": "stream",
     "text": [
      "All characters in the english langauge {'i', 'j', 'm', 'l', 'z', 'y', 'g', 'b', 'x', 't', 'v', 'w', 'd', 'a', 'p', 'k', 'e', 'q', 's', 'n', 'u', 'c', 'f', 'o', 'h', 'r'}\n"
     ]
    }
   ],
   "source": [
    "import string\n",
    "\n",
    "# To speed this up. We are giving you the all_letters set \n",
    "# that contains all the letters in the english language\n",
    "\n",
    "set_letters = set(string.ascii_lowercase)\n",
    "print(\"All characters in the english langauge {}\".format(set_letters))"
   ]
  },
  {
   "cell_type": "code",
   "execution_count": 3,
   "metadata": {},
   "outputs": [
    {
     "name": "stdout",
     "output_type": "stream",
     "text": [
      "Set of numbers {0, 1, 2, 3, 4, 5, 6, 7, 8, 9}\n"
     ]
    }
   ],
   "source": [
    "# First generate a set of numbers from 0 to 9 using numpy \n",
    "import numpy as np \n",
    "\n",
    "set_numbers = set(range(10))\n",
    "print(\"Set of numbers {}\".format(set_numbers))"
   ]
  },
  {
   "cell_type": "code",
   "execution_count": 4,
   "metadata": {},
   "outputs": [
    {
     "name": "stdout",
     "output_type": "stream",
     "text": [
      "Set of only numbers {0, 1, 2, 5, 7, 8, 9}\n"
     ]
    }
   ],
   "source": [
    "# How do we get only numbers from the array?  \n",
    "arr_set = set(arr)\n",
    "set_only_numbers = arr_set-set_letters ## Difference between sets arr_set and letters\n",
    "print(\"Set of only numbers {}\".format(set_only_numbers))"
   ]
  },
  {
   "cell_type": "code",
   "execution_count": 5,
   "metadata": {},
   "outputs": [
    {
     "name": "stdout",
     "output_type": "stream",
     "text": [
      "Set of only letters {'f', 'e', 'g', 'd', 'h', 'a', 'b'}\n"
     ]
    }
   ],
   "source": [
    "# How do we get only letters from the array? \n",
    "set_only_letters = arr_set-set_numbers ## difference between arr_set and numbers \n",
    "print(\"Set of only letters {}\".format(set_only_letters))"
   ]
  },
  {
   "cell_type": "code",
   "execution_count": 6,
   "metadata": {},
   "outputs": [
    {
     "name": "stdout",
     "output_type": "stream",
     "text": [
      "{'e', 'h'}\n",
      "One possible combination of is the following set {0, 1, 2, 3, 4, 5, 6, 7, 8, 9, 'e', 'h'}\n"
     ]
    }
   ],
   "source": [
    "# How do we get 2 chars and rest letters from the array? \n",
    "# pick two alphabets and make a set\n",
    "\n",
    "import random\n",
    "random.seed(1)\n",
    "alpha_subset = set(random.sample(set_only_letters,2))\n",
    "print(alpha_subset)\n",
    "\n",
    "#a=['d','e']\n",
    "#alpha_subset = set(a) ## We need to make a sent of alphabets d and e \n",
    "twochar_set = alpha_subset | set_numbers ## We need to combine the two alphabet set and numbers only set \n",
    "print(\"One possible combination of is the following set {}\".format(twochar_set))"
   ]
  },
  {
   "cell_type": "code",
   "execution_count": 7,
   "metadata": {},
   "outputs": [
    {
     "name": "stdout",
     "output_type": "stream",
     "text": [
      " Subsample from arr_set [2, 'e', 1, 5, 'h']\n"
     ]
    }
   ],
   "source": [
    "# Next is random sampling from a set. We can do this by doing using the random sample function\n",
    "# from the random library \n",
    "import random\n",
    "\n",
    "# Make sure that random seed is set to 1  \n",
    "random.seed(1)\n",
    "subsample = random.sample(arr_set,5) ## the module random has a function sample use that to get 5 elements from arr_set\n",
    "print(\" Subsample from arr_set {}\".format(subsample))"
   ]
  },
  {
   "cell_type": "code",
   "execution_count": 8,
   "metadata": {},
   "outputs": [
    {
     "name": "stdout",
     "output_type": "stream",
     "text": [
      "S is a subset of P: False\n",
      "C is a subset of P: True\n"
     ]
    }
   ],
   "source": [
    "P = [4,6,12,1,6,7,14,17,5,13,8,9,19,16,19,5,15,15,0,18]\n",
    "S = [5,0,3,11,3,7,9,3,5,2]\n",
    "\n",
    "P_set = set(P)\n",
    "S_set = set(S)\n",
    "\n",
    "is_subset = S_set.issubset(P_set) ## Check if S is a subset of P\n",
    "print(\"S is a subset of P: {}\".format(is_subset))\n",
    "\n",
    "C  = [5,0,7,9,5]\n",
    "C_set = set(C)\n",
    "is_subset = C_set.issubset(P_set)\n",
    "print(\"C is a subset of P: {}\".format(is_subset))"
   ]
  },
  {
   "cell_type": "code",
   "execution_count": 9,
   "metadata": {},
   "outputs": [
    {
     "name": "stdout",
     "output_type": "stream",
     "text": [
      "Elements common to both P and S are {0, 9, 5, 7}\n",
      "All elememts in P and S are {0, 1, 2, 3, 4, 5, 6, 7, 8, 9, 11, 12, 13, 14, 15, 16, 17, 18, 19}\n",
      "Difference between S and P {11, 2, 3}\n",
      "Difference between P and S {1, 4, 6, 8, 12, 13, 14, 15, 16, 17, 18, 19}\n"
     ]
    }
   ],
   "source": [
    "P_intersect_S = P_set & S_set ## Get the intersection of sets P and S \n",
    "print(\"Elements common to both P and S are {}\".format(P_intersect_S))\n",
    "\n",
    "P_union_S = P_set|S_set\n",
    "print(\"All elememts in P and S are {}\".format(P_union_S))\n",
    "\n",
    "Diff_SP = S_set-P_set\n",
    "print(\"Difference between S and P {}\".format(Diff_SP))\n",
    "\n",
    "\n",
    "Diff_PS = P_set-S_set\n",
    "print(\"Difference between P and S {}\".format(Diff_PS))"
   ]
  },
  {
   "cell_type": "code",
   "execution_count": 10,
   "metadata": {},
   "outputs": [
    {
     "name": "stdout",
     "output_type": "stream",
     "text": [
      "Union of set P and S : {0, 1, 2, 3, 4, 5, 6, 7, 8, 9, 11, 12, 13, 14, 15, 16, 17, 18, 19}\n",
      "Difference of set P and S : {1, 4, 6, 8, 12, 13, 14, 15, 16, 17, 18, 19}\n",
      "Difference of set S and P : {11, 2, 3}\n"
     ]
    }
   ],
   "source": [
    "# Union of sets P and s \n",
    "union_PS = P_set|S_set \n",
    "## Union of P and S. You have done this before when you combined chars with nums and vice versa \n",
    "\n",
    "# difference P-S \n",
    "difference_PS = P_set-S_set ## Difference between sets P and S\n",
    "\n",
    "# difference S-P\n",
    "\n",
    "difference_SP = S_set-P_set ## Difference between sets S and P  \n",
    "\n",
    "print(\"Union of set P and S : {}\".format(union_PS))\n",
    "print(\"Difference of set P and S : {}\".format(difference_PS))\n",
    "print(\"Difference of set S and P : {}\".format(difference_SP))"
   ]
  }
 ],
 "metadata": {
  "kernelspec": {
   "display_name": "Python 3",
   "language": "python",
   "name": "python3"
  },
  "language_info": {
   "codemirror_mode": {
    "name": "ipython",
    "version": 3
   },
   "file_extension": ".py",
   "mimetype": "text/x-python",
   "name": "python",
   "nbconvert_exporter": "python",
   "pygments_lexer": "ipython3",
   "version": "3.7.3"
  }
 },
 "nbformat": 4,
 "nbformat_minor": 2
}
