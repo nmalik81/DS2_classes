{
 "cells": [
  {
   "cell_type": "code",
   "execution_count": 1,
   "metadata": {},
   "outputs": [
    {
     "ename": "SyntaxError",
     "evalue": "can't assign to operator (<ipython-input-1-7054b7ba934e>, line 3)",
     "output_type": "error",
     "traceback": [
      "\u001b[1;36m  File \u001b[1;32m\"<ipython-input-1-7054b7ba934e>\"\u001b[1;36m, line \u001b[1;32m3\u001b[0m\n\u001b[1;33m    a-b=[4,5]-[6,8]\u001b[0m\n\u001b[1;37m                   ^\u001b[0m\n\u001b[1;31mSyntaxError\u001b[0m\u001b[1;31m:\u001b[0m can't assign to operator\n"
     ]
    }
   ],
   "source": [
    "a=[4,5]\n",
    "b=[6,8]\n",
    "a-b=[4,5]-[6,8]\n",
    "print('a-b','-2,-3')\n",
    "a+b=10,13\n",
    "b-a=2,3\n",
    "-8,-1,2\n",
    "8,1,-2\n"
   ]
  },
  {
   "cell_type": "code",
   "execution_count": 10,
   "metadata": {},
   "outputs": [
    {
     "name": "stdout",
     "output_type": "stream",
     "text": [
      "[-2 -3]\n"
     ]
    }
   ],
   "source": [
    "import numpy as np\n",
    "a=[4,5]\n",
    "b=[6,8]\n",
    "p=np.array([4,5])\n",
    "q=np.array([6,8])\n",
    "d=p-q\n",
    "print(d)\n",
    "c=a"
   ]
  },
  {
   "cell_type": "code",
   "execution_count": null,
   "metadata": {},
   "outputs": [],
   "source": []
  }
 ],
 "metadata": {
  "kernelspec": {
   "display_name": "Python 3",
   "language": "python",
   "name": "python3"
  },
  "language_info": {
   "codemirror_mode": {
    "name": "ipython",
    "version": 3
   },
   "file_extension": ".py",
   "mimetype": "text/x-python",
   "name": "python",
   "nbconvert_exporter": "python",
   "pygments_lexer": "ipython3",
   "version": "3.7.3"
  }
 },
 "nbformat": 4,
 "nbformat_minor": 2
}
