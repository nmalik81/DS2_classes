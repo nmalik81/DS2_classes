{
 "cells": [
  {
   "cell_type": "code",
   "execution_count": 2,
   "metadata": {},
   "outputs": [],
   "source": [
    "# Lab - Introduction_to_Statistics\n",
    "# Given the following BostonHousing dataset, generate 6 samples which contain 50 people for each of them.\n",
    "# Calculate the mean of each sample's 'AGE'.\n",
    "# Consider the whole dataset's 'AGE' as the population, calculate the mean of an sample of 10 people, as well as the mean of the full population. Are they the same or different, why?\n",
    "# Suppose we don't have the whole BostonHousing dataset, but only have one sample with 50 people. Calculate the standard error of the population for house 'AGE'. (Use the formula in class notes \"01-Introduction to Statistics\" to calculate standard error)"
   ]
  },
  {
   "cell_type": "code",
   "execution_count": 3,
   "metadata": {},
   "outputs": [
    {
     "name": "stdout",
     "output_type": "stream",
     "text": [
      "Mean of first sample AGE is: 71.62599999999999\n",
      "Mean of second sample AGE is: 69.59\n",
      "Mean of third sample AGE is: 70.79200000000002\n",
      "Mean of fourth sample AGE is: 69.398\n",
      "Mean of fifth sample AGE is: 74.56600000000002\n",
      "Mean of sixth sample AGE is: 73.192\n",
      "Mean of the whole dataset's AGE is: 68.57490118577078\n",
      "Mean of sample 'AGE' of 10 is: 71.1\n",
      "Mean of sample and population is different\n",
      "Standard error of the sampling distribution of mean- 3.9808501567003725\n"
     ]
    }
   ],
   "source": [
    "from sklearn import datasets\n",
    "import pandas as pd\n",
    "import numpy as np\n",
    "boston = datasets.load_boston()\n",
    "boston_df = pd.DataFrame(data=boston.data, columns=boston.feature_names)\n",
    "#boston_df.head()\n",
    "\n",
    "# write your code below\n",
    "# 6 samples which contain 50 people each\n",
    "sample_1 = boston_df.sample(n=50,random_state=1)\n",
    "sample_2 = boston_df.sample(n=50,random_state=2)\n",
    "sample_3 = boston_df.sample(n=50,random_state=3)\n",
    "sample_4 = boston_df.sample(n=50,random_state=4)\n",
    "sample_5 = boston_df.sample(n=50,random_state=5)\n",
    "sample_6 = boston_df.sample(n=50,random_state=6)\n",
    "#sample_1,sample_2,smaple_3,sample_4,sample_5,sample_6\n",
    "\n",
    "#Mean of each sample's 'AGE'\n",
    "print(\"Mean of first sample AGE is:\",sample_1.AGE.mean())\n",
    "print(\"Mean of second sample AGE is:\",sample_2.AGE.mean())\n",
    "print(\"Mean of third sample AGE is:\",sample_3.AGE.mean())\n",
    "print(\"Mean of fourth sample AGE is:\",sample_4.AGE.mean())\n",
    "print(\"Mean of fifth sample AGE is:\",sample_5.AGE.mean())\n",
    "print(\"Mean of sixth sample AGE is:\",sample_6.AGE.mean())\n",
    "\n",
    "print(\"Mean of the whole dataset's AGE is:\",boston_df.AGE.mean())\n",
    "print(\"Mean of sample 'AGE' of 10 is:\",boston_df.sample(n=10,random_state=1).AGE.mean())\n",
    "print(\"Mean of sample and population is different\")\n",
    "boston_age_population = boston_df[\"AGE\"]\n",
    "#print(boston_age_population)\n",
    "print(\"Standard error of the sampling distribution of mean-\",boston_age_population.std()/np.sqrt(50))"
   ]
  }
 ],
 "metadata": {
  "kernelspec": {
   "display_name": "Python 3",
   "language": "python",
   "name": "python3"
  },
  "language_info": {
   "codemirror_mode": {
    "name": "ipython",
    "version": 3
   },
   "file_extension": ".py",
   "mimetype": "text/x-python",
   "name": "python",
   "nbconvert_exporter": "python",
   "pygments_lexer": "ipython3",
   "version": "3.7.3"
  }
 },
 "nbformat": 4,
 "nbformat_minor": 2
}
