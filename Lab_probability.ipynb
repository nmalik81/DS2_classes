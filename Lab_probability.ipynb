{
 "cells": [
  {
   "cell_type": "markdown",
   "metadata": {},
   "source": [
    "# Lab - Probability\n",
    "Write down the probability mass functions for each of below given scenarios:\n",
    "\n",
    "Rolling a fair die to get a number among the six numbers {1,2,3,4,5,6}\n",
    "Rolling an unfair die to get a number among the six numbers {1,2,3,4,5,6}. Note that due to uneven weight distribution, the faces of the die having 3 and 5, each have a 50% higher chance of showing up as compared to other numbers which have equal probability\n",
    "Tossing a fair coin to get a Heads or Tail\n",
    "Tossing an unfair coin to get a Heads or a Tail. There is a 63% higher chance of a Heads showing up\n",
    "Weight of nails (in grams, accuracy up to 3 decimal places) produced by an automated machinery. Average weight of the nails is 10 g. The machinery has a tolerance of up to  ± 225 𝑚𝑔 \n",
    "Make sure you use plotly express to plot these plots"
   ]
  },
  {
   "cell_type": "code",
   "execution_count": 1,
   "metadata": {},
   "outputs": [
    {
     "name": "stdout",
     "output_type": "stream",
     "text": [
      "The pmf of getting a number from rolling a fair die is: p_x = 1/6\n"
     ]
    },
    {
     "data": {
      "text/plain": [
       "<Figure size 640x480 with 1 Axes>"
      ]
     },
     "metadata": {},
     "output_type": "display_data"
    }
   ],
   "source": [
    "import numpy as np\n",
    "import matplotlib.pyplot as plt\n",
    "import plotly.express as plx\n",
    "from scipy.stats import norm \n",
    "#Tossing a fair dice\n",
    "p_x = 1/6\n",
    "print(\"The pmf of getting a number from rolling a fair die is:\",'p_x = 1/6')\n",
    "plt.scatter((1,2,3,4,5,6),(p_x,p_x,p_x,p_x,p_x,p_x))\n",
    "plt.xlabel(\"x-axis: Number on a fair die\")\n",
    "plt.ylabel(\"y-axis:pmf\")\n",
    "plt.plot(p_x)\n",
    "plt.show()"
   ]
  },
  {
   "cell_type": "code",
   "execution_count": 2,
   "metadata": {},
   "outputs": [
    {
     "name": "stdout",
     "output_type": "stream",
     "text": [
      "The pmf of getting (1,2,4,6) and (3,5) from rolling an unfair die is: p_x(1,2,4,6)=1/2 and p_x(3,5)=1/7\n"
     ]
    },
    {
     "data": {
      "image/png": "[encoded data removed]",
      "text/plain": [
       "<Figure size 432x288 with 1 Axes>"
      ]
     },
     "metadata": {
      "needs_background": "light"
     },
     "output_type": "display_data"
    }
   ],
   "source": [
    "#Tossing an unfair dice\n",
    "#p(1)+p(2)+p(3)+p(4)+p(5)+p(6)=1\n",
    "#Since 3 and 5 have 50% higher probability as compared to other numbers\n",
    "#p_x(1,2,4,6)=1/2\n",
    "#p_x(3,5)=1/7\n",
    "print(\"The pmf of getting (1,2,4,6) and (3,5) from rolling an unfair die is:\",\"p_x(1,2,4,6)=1/2 and p_x(3,5)=1/7\")\n",
    "plt.bar((1,2,3,4,5,6),(1/2,1/2,1/7,1/2,1/7,1/2))\n",
    "plt.xlabel(\"x-axis: Number on an unfair dice\")\n",
    "plt.ylabel(\"y-axis:pmf\")\n",
    "plt.plot(p_x)\n",
    "plt.show()"
   ]
  },
  {
   "cell_type": "code",
   "execution_count": 3,
   "metadata": {},
   "outputs": [
    {
     "name": "stdout",
     "output_type": "stream",
     "text": [
      "The pmf of getting head/tail from tossing a fair coin is: p_x = 1/2\n"
     ]
    },
    {
     "data": {
      "image/png": "[encoded data removed]",
      "text/plain": [
       "<Figure size 432x288 with 1 Axes>"
      ]
     },
     "metadata": {
      "needs_background": "light"
     },
     "output_type": "display_data"
    }
   ],
   "source": [
    "#Tossing a fair coin\n",
    "p_x=1/2\n",
    "print(\"The pmf of getting head/tail from tossing a fair coin is:\",'p_x = 1/2')\n",
    "plt.scatter(('H','T'),(p_x,p_x))\n",
    "plt.xlabel(\"x-axis: Head/Tail on a fair coin\")\n",
    "plt.ylabel(\"y-axis:pmf\")\n",
    "plt.plot(p_x)\n",
    "plt.show()"
   ]
  },
  {
   "cell_type": "code",
   "execution_count": 4,
   "metadata": {},
   "outputs": [
    {
     "name": "stdout",
     "output_type": "stream",
     "text": [
      "The pmf of getting head/tail from tossing an unfair coin is: p_x(H)=3/5,p_x(T)=2/5\n"
     ]
    },
    {
     "data": {
      "image/png": "[encoded data removed]",
      "text/plain": [
       "<Figure size 432x288 with 1 Axes>"
      ]
     },
     "metadata": {
      "needs_background": "light"
     },
     "output_type": "display_data"
    }
   ],
   "source": [
    "#Tossing an unfair coin\n",
    "#p(H)+p(T)=1\n",
    "#Since getting head has 63% higher probability as compared to tail\n",
    "#p_x(H)=3/5\n",
    "#p_x(T)=2/5\n",
    "p_x=1/2\n",
    "print(\"The pmf of getting head/tail from tossing an unfair coin is:\",'p_x(H)=3/5,p_x(T)=2/5')\n",
    "plt.bar(('H','T'),(3/5,2/5))\n",
    "plt.xlabel(\"x-axis: Head/Tail on an unfair coin\")\n",
    "plt.ylabel(\"y-axis:pmf\")\n",
    "plt.plot(p_x)\n",
    "plt.show()"
   ]
  },
  {
   "cell_type": "code",
   "execution_count": 5,
   "metadata": {},
   "outputs": [
    {
     "data": {
      "image/png": "[encoded data removed]",
      "text/plain": [
       "<Figure size 432x288 with 1 Axes>"
      ]
     },
     "metadata": {
      "needs_background": "light"
     },
     "output_type": "display_data"
    }
   ],
   "source": [
    "#Weight of nails (in grams, accuracy up to 3 decimal places) produced by an automated machinery. Average weight of the nails is 10 g. The machinery has a tolerance of up to  ± 225 𝑚𝑔\n",
    "mu, sigma = 10, 0.225 # mean and standard deviation\n",
    "s = np.random.normal(mu, sigma, 1000)\n",
    "\n",
    "import matplotlib.pyplot as plt\n",
    "count, bins, ignored = plt.hist(s, 30)\n",
    "plt.plot(bins, 1/(sigma * np.sqrt(2 * np.pi)) *\n",
    "               np.exp( - (bins - mu)**2 / (2 * sigma**2) ),\n",
    "         linewidth=2, color='r')\n",
    "plt.show()"
   ]
  }
 ],
 "metadata": {
  "kernelspec": {
   "display_name": "Python 3",
   "language": "python",
   "name": "python3"
  },
  "language_info": {
   "codemirror_mode": {
    "name": "ipython",
    "version": 3
   },
   "file_extension": ".py",
   "mimetype": "text/x-python",
   "name": "python",
   "nbconvert_exporter": "python",
   "pygments_lexer": "ipython3",
   "version": "3.7.3"
  }
 },
 "nbformat": 4,
 "nbformat_minor": 2
}
