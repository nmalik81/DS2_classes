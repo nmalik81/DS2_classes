{
 "cells": [
  {
   "cell_type": "code",
   "execution_count": 1,
   "metadata": {},
   "outputs": [
    {
     "name": "stdout",
     "output_type": "stream",
     "text": [
      "12\n"
     ]
    }
   ],
   "source": [
    "import numpy as np\n",
    "a=-10\n",
    "np.abs(a)\n",
    "\n",
    "def abs(x):\n",
    "    if x<0:\n",
    "        x=-x\n",
    "        return x\n",
    "print(abs(-12))"
   ]
  },
  {
   "cell_type": "code",
   "execution_count": 2,
   "metadata": {},
   "outputs": [],
   "source": [
    "#adding more code letter that I forgot about earlier today"
   ]
  },
  {
   "cell_type": "code",
   "execution_count": 3,
   "metadata": {},
   "outputs": [
    {
     "name": "stdout",
     "output_type": "stream",
     "text": [
      "[[ 3 -9]\n",
      " [ 2  4]]\n"
     ]
    }
   ],
   "source": [
    "import numpy as np\n",
    "A=np.array([[3,-9],[2,4]])\n",
    "print (A)"
   ]
  },
  {
   "cell_type": "code",
   "execution_count": 4,
   "metadata": {},
   "outputs": [],
   "source": [
    "b=np.array([-42,2])"
   ]
  },
  {
   "cell_type": "code",
   "execution_count": 5,
   "metadata": {},
   "outputs": [
    {
     "name": "stdout",
     "output_type": "stream",
     "text": [
      "[-5.  3.]\n"
     ]
    }
   ],
   "source": [
    "z=np.linalg.solve(A,b)\n",
    "print(z)"
   ]
  },
  {
   "cell_type": "code",
   "execution_count": 6,
   "metadata": {},
   "outputs": [
    {
     "name": "stdout",
     "output_type": "stream",
     "text": [
      "[ 3. -2.  1.]\n"
     ]
    }
   ],
   "source": [
    "A=np.array([[1,-2,-1],[2,2,-1],[1,1,-2]])\n",
    "b=([6,1,-1])\n",
    "z=np.linalg.solve(A,b)\n",
    "print(z)"
   ]
  },
  {
   "cell_type": "code",
   "execution_count": 7,
   "metadata": {},
   "outputs": [
    {
     "name": "stdout",
     "output_type": "stream",
     "text": [
      "[[ 3  4  7]\n",
      " [10 16 21]]\n",
      "[[-1 -2 -3]\n",
      " [-4 -6 -5]]\n",
      "[[300 100 400]\n",
      " [100 500 900]\n",
      " [200 600 500]\n",
      " [300 500 600]]\n"
     ]
    }
   ],
   "source": [
    "A=np.array([[1,1,2],[3,5,8]])\n",
    "B=np.array([[2,3,5],[7,11,13]])\n",
    "C=np.array([[3,1,4],[1,5,9],[2,6,5],[3,5,6]])\n",
    "print(A + B)\n",
    "print(A-B)\n",
    "print(100*C)"
   ]
  },
  {
   "cell_type": "code",
   "execution_count": 8,
   "metadata": {},
   "outputs": [
    {
     "name": "stdout",
     "output_type": "stream",
     "text": [
      "magnitude of point P is 7.0\n"
     ]
    }
   ],
   "source": [
    "import numpy as np\n",
    "A=np.array([3,4])\n",
    "magnitude = np.linalg.norm(A,1)\n",
    "print(\"magnitude of point P is {}\".format(magnitude))"
   ]
  },
  {
   "cell_type": "code",
   "execution_count": 9,
   "metadata": {},
   "outputs": [
    {
     "name": "stdout",
     "output_type": "stream",
     "text": [
      "{'Apples', 'Peaches', 'Grapes', 'Mangoes', 'Bananas'}\n",
      "<class 'set'>\n",
      "Apples\n",
      "Peaches\n",
      "Grapes\n",
      "Mangoes\n",
      "Bananas\n"
     ]
    },
    {
     "data": {
      "text/plain": [
       "'Bananas'"
      ]
     },
     "execution_count": 9,
     "metadata": {},
     "output_type": "execute_result"
    }
   ],
   "source": [
    "a = {\"Apples\",\"Bananas\",\"Peaches\",\"Grapes\",\"Bananas\",\"Mangoes\",\"Bananas\"}\n",
    "print(a)\n",
    "print(type(a))\n",
    "#a[0]\n",
    "for x in a:\n",
    "    print(x)\n",
    "x"
   ]
  },
  {
   "cell_type": "code",
   "execution_count": 10,
   "metadata": {},
   "outputs": [
    {
     "name": "stdout",
     "output_type": "stream",
     "text": [
      "<class 'set'>\n",
      "<class 'set'>\n"
     ]
    },
    {
     "data": {
      "text/plain": [
       "True"
      ]
     },
     "execution_count": 10,
     "metadata": {},
     "output_type": "execute_result"
    }
   ],
   "source": [
    "𝐴={1,2,3,4,5,6,7,8,9,0} \n",
    "𝐵={2,4,6,8}\n",
    "print(type(A))\n",
    "print(type(B))\n",
    "B.issubset(A)\n",
    "A.issuperset(B)"
   ]
  },
  {
   "cell_type": "code",
   "execution_count": 14,
   "metadata": {},
   "outputs": [
    {
     "name": "stdout",
     "output_type": "stream",
     "text": [
      "{4, 5}\n",
      "{10, 4, 5}\n",
      "{10, 4}\n"
     ]
    }
   ],
   "source": [
    "my_set = {4,5}\n",
    "print(my_set)\n",
    "my_set.add(10)\n",
    "print(my_set)\n",
    "my_set.discard(5)\n",
    "print(my_set)"
   ]
  },
  {
   "cell_type": "code",
   "execution_count": 15,
   "metadata": {},
   "outputs": [
    {
     "name": "stdout",
     "output_type": "stream",
     "text": [
      "Python 3.7.3\n"
     ]
    }
   ],
   "source": [
    "!python --version"
   ]
  },
  {
   "cell_type": "code",
   "execution_count": 29,
   "metadata": {},
   "outputs": [
    {
     "name": "stdout",
     "output_type": "stream",
     "text": [
      "Union: {'Apples', 'Bananas', 'Potatoes', 'Mangoes', 'Tomatoes'}\n",
      "Union: {'Apples', 'Bananas', 'Potatoes', 'Mangoes', 'Tomatoes'}\n",
      "Intersection: {'Apples', 'Bananas'}\n",
      "Intersection: {'Apples', 'Bananas'}\n",
      "Difference: {'Mangoes'}\n",
      "Difference: {'Potatoes', 'Tomatoes'}\n",
      "Addition: {'Potatoes', 'Tomatoes'}\n",
      "Addition: {'Potatoes', 'Tomatoes'}\n",
      "Symmetric difference: {'Mangoes', 'Potatoes', 'Tomatoes'}\n",
      "Symmetric difference: {'Potatoes', 'Mangoes', 'Tomatoes'}\n"
     ]
    }
   ],
   "source": [
    "A = {\"Apples\",\"Bananas\",\"Mangoes\"} \n",
    "B = {\"Bananas\",\"Tomatoes\",\"Apples\",\"Potatoes\"}\n",
    "\n",
    "# union \n",
    "print(\"Union:\", A | B)\n",
    "print(\"Union:\", B | A)\n",
    "#intersection\n",
    "print(\"Intersection:\",A & B)\n",
    "print(\"Intersection:\",B & A)\n",
    "#difference A-B\n",
    "print(\"Difference:\",A-B)\n",
    "print(\"Difference:\",B-A)\n",
    "#difference B-A\n",
    "print(\"Addition:\",B-A)\n",
    "print(\"Addition:\",B-A)\n",
    "#symmetric difference\n",
    "print(\"Symmetric difference:\",A^B)\n",
    "print(\"Symmetric difference:\",B^A)"
   ]
  },
  {
   "cell_type": "code",
   "execution_count": null,
   "metadata": {},
   "outputs": [],
   "source": []
  }
 ],
 "metadata": {
  "kernelspec": {
   "display_name": "Python 3",
   "language": "python",
   "name": "python3"
  },
  "language_info": {
   "codemirror_mode": {
    "name": "ipython",
    "version": 3
   },
   "file_extension": ".py",
   "mimetype": "text/x-python",
   "name": "python",
   "nbconvert_exporter": "python",
   "pygments_lexer": "ipython3",
   "version": "3.7.3"
  }
 },
 "nbformat": 4,
 "nbformat_minor": 2
}
