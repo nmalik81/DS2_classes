{
 "cells": [
  {
   "cell_type": "code",
   "execution_count": 1,
   "metadata": {},
   "outputs": [
    {
     "name": "stdout",
     "output_type": "stream",
     "text": [
      "12\n"
     ]
    }
   ],
   "source": [
    "import numpy as np\n",
    "a=-10\n",
    "np.abs(a)\n",
    "\n",
    "def abs(x):\n",
    "    if x<0:\n",
    "        x=-x\n",
    "        return x\n",
    "print(abs(-12))"
   ]
  },
  {
   "cell_type": "code",
   "execution_count": null,
   "metadata": {},
   "outputs": [],
   "source": [
    "#adding more code letter that I forgot about earlier today"
   ]
  },
  {
   "cell_type": "code",
   "execution_count": 5,
   "metadata": {},
   "outputs": [
    {
     "name": "stdout",
     "output_type": "stream",
     "text": [
      "[[ 3 -9]\n",
      " [ 2  4]]\n"
     ]
    }
   ],
   "source": [
    "import numpy as np\n",
    "A=np.array([[3,-9],[2,4]])\n",
    "print (A)"
   ]
  },
  {
   "cell_type": "code",
   "execution_count": 6,
   "metadata": {},
   "outputs": [],
   "source": [
    "b=np.array([-42,2])"
   ]
  },
  {
   "cell_type": "code",
   "execution_count": 7,
   "metadata": {},
   "outputs": [
    {
     "name": "stdout",
     "output_type": "stream",
     "text": [
      "[-5.  3.]\n"
     ]
    }
   ],
   "source": [
    "z=np.linalg.solve(A,b)\n",
    "print(z)"
   ]
  },
  {
   "cell_type": "code",
   "execution_count": 9,
   "metadata": {},
   "outputs": [
    {
     "name": "stdout",
     "output_type": "stream",
     "text": [
      "[ 3. -2.  1.]\n"
     ]
    }
   ],
   "source": [
    "A=np.array([[1,-2,-1],[2,2,-1],[1,1,-2]])\n",
    "b=([6,1,-1])\n",
    "z=np.linalg.solve(A,b)\n",
    "print(z)"
   ]
  },
  {
   "cell_type": "code",
   "execution_count": 19,
   "metadata": {},
   "outputs": [
    {
     "name": "stdout",
     "output_type": "stream",
     "text": [
      "[[ 3  4  7]\n",
      " [10 16 21]]\n",
      "[[-1 -2 -3]\n",
      " [-4 -6 -5]]\n",
      "[[300 100 400]\n",
      " [100 500 900]\n",
      " [200 600 500]\n",
      " [300 500 600]]\n"
     ]
    }
   ],
   "source": [
    "A=np.array([[1,1,2],[3,5,8]])\n",
    "B=np.array([[2,3,5],[7,11,13]])\n",
    "C=np.array([[3,1,4],[1,5,9],[2,6,5],[3,5,6]])\n",
    "print(A + B)\n",
    "print(A-B)\n",
    "print(100*C)"
   ]
  },
  {
   "cell_type": "code",
   "execution_count": null,
   "metadata": {},
   "outputs": [],
   "source": []
  }
 ],
 "metadata": {
  "kernelspec": {
   "display_name": "Python 3",
   "language": "python",
   "name": "python3"
  },
  "language_info": {
   "codemirror_mode": {
    "name": "ipython",
    "version": 3
   },
   "file_extension": ".py",
   "mimetype": "text/x-python",
   "name": "python",
   "nbconvert_exporter": "python",
   "pygments_lexer": "ipython3",
   "version": "3.7.3"
  }
 },
 "nbformat": 4,
 "nbformat_minor": 2
}
