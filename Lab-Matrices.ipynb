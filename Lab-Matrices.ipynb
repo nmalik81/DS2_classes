{
 "cells": [
  {
   "cell_type": "code",
   "execution_count": 2,
   "metadata": {},
   "outputs": [
    {
     "name": "stdout",
     "output_type": "stream",
     "text": [
      "Transpose of A is:\n",
      "[[10 95  8]\n",
      " [95 20  9]\n",
      " [ 8  9 30]]\n",
      "Transpose of B is:\n",
      "[[ 5 95  8  8]\n",
      " [ 8 20  9  9]\n",
      " [ 3  9 30 30]\n",
      " [ 6  3  3  3]]\n",
      "Transpose of C is:\n",
      "[[   0.    -6.  -250. ]\n",
      " [   6.     0.   -86.3]\n",
      " [ 250.    86.3    0. ]]\n",
      "Inverse of A is:\n",
      "[[-0.00205009  0.0109733  -0.0027453 ]\n",
      " [ 0.0109733  -0.00093222 -0.00264655]\n",
      " [-0.0027453  -0.00264655  0.03485938]]\n",
      "True\n",
      "A is a symmetric matrix\n",
      "B is a singular matrix\n",
      "C is a singular matrix\n",
      "Addition of A and B is not possible as both matrices have different dimensions\n",
      "Multiplication of A and B is not possible because number of columns of matrix A is not equal to the number of rows of matrix B\n"
     ]
    }
   ],
   "source": [
    "import numpy as np\n",
    "\n",
    "A = np.matrix([[10,95,8],[95,20,9],[8,9,30]])\n",
    "B = np.matrix([[5,8,3,6],[95,20,9,3],[8,9,30,3],[8,9,30,3]])\n",
    "C = np.matrix([[0,6,250],[-6,0,86.3],[-250,-86.3,0]])\n",
    "\n",
    "print(\"Transpose of A is:\",np.transpose(A),sep=\"\\n\")\n",
    "print(\"Transpose of B is:\",np.transpose(B),sep=\"\\n\")\n",
    "print(\"Transpose of C is:\",np.transpose(C),sep=\"\\n\")\n",
    "\n",
    "print(\"Inverse of A is:\",np.linalg.inv(A),sep=\"\\n\")\n",
    "#print(\"Inverse of B is:\",np.linalg.inv(B),sep=\"\\n\")\n",
    "#print(\"Inverse of C is:\",np.linalg.inv(C),sep=\"\\n\")\n",
    "\n",
    "#print(\"Determinant of A is:\",np.linalg.det(A),sep=\"\\n\")\n",
    "#print(\"Determinant of B is:\",np.linalg.det(B),sep=\"\\n\")\n",
    "#print(\"Determinant of C is:\",np.linalg.det(C),sep=\"\\n\")\n",
    "\n",
    "print(np.allclose(A,np.transpose(A)))\n",
    "print(\"A is a symmetric matrix\")\n",
    "\n",
    "print(\"B is a singular matrix\")\n",
    "print(\"C is a singular matrix\")\n",
    "\n",
    "#print(\"Addition of A and B is:\",A+B,sep=\"\\n\")\n",
    "print(\"Addition of A and B is not possible as both matrices have different dimensions\")\n",
    "\n",
    "#print(\"Multiplication of A and B is:\",np.matmul(A,B),sep=\"\\n\")\n",
    "print(\"Multiplication of A and B is not possible because number of columns of matrix A is not equal to the number of rows of matrix B\")"
   ]
  }
 ],
 "metadata": {
  "kernelspec": {
   "display_name": "Python 3",
   "language": "python",
   "name": "python3"
  },
  "language_info": {
   "codemirror_mode": {
    "name": "ipython",
    "version": 3
   },
   "file_extension": ".py",
   "mimetype": "text/x-python",
   "name": "python",
   "nbconvert_exporter": "python",
   "pygments_lexer": "ipython3",
   "version": "3.7.3"
  }
 },
 "nbformat": 4,
 "nbformat_minor": 2
}
